{
 "cells": [
  {
   "cell_type": "markdown",
   "metadata": {},
   "source": [
    "# Cambiando el intervalo de mi serie de fourier\n",
    "\n",
    "Supongamos que tenemos la siguiente función atrozos.\n",
    "\n",
    "$$f(x)=\\left\\{\\begin{matrix}\n",
    "h & si &  0\\leq x\\leq 1\\\\ \n",
    "0 & si & 1< x< 2L\n",
    "\\end{matrix}\\right.$$"
   ]
  },
  {
   "cell_type": "code",
   "execution_count": 55,
   "metadata": {},
   "outputs": [
    {
     "data": {
      "image/png": "[encoded data removed]",
      "text/plain": [
       "<Figure size 432x288 with 1 Axes>"
      ]
     },
     "metadata": {
      "needs_background": "light"
     },
     "output_type": "display_data"
    }
   ],
   "source": [
    "import numpy as np\n",
    "import matplotlib.pyplot as plt \n",
    "\n",
    "L=3/2\n",
    "h=1\n",
    "\n",
    "x1 = np.linspace(0, 5)\n",
    "x2 = np.linspace(5, 15)\n",
    "x3 = np.linspace(15, 20)\n",
    "\n",
    "y1= 0*x1+h\n",
    "y2= 0*x1\n",
    "y3= 0*x1+h\n",
    "\n",
    "x = np.linspace(0, 2*L+1)\n",
    "y = np.piecewise(x, [   (0<=x) & (x<=1), \n",
    "                        (1<x) & (x<(2*L)), \n",
    "                        (2*L<=x) & (x<=2*L+1) ], \n",
    "\n",
    "                    [   lambda x: h, \n",
    "                        lambda x: 0, \n",
    "                        lambda x: h\n",
    "                    ])\n",
    "\n",
    "'''\n",
    "plt.plot(x1, y1,\"b\")\n",
    "plt.plot(x2, y2,\"b\")\n",
    "plt.plot(x3, y3,\"b\")\n",
    "'''\n",
    "\n",
    "fig, ax = plt.subplots()\n",
    "\n",
    "ax.plot([0,10], [0,0], \"k\")#EJE X\n",
    "ax.plot([0,0], [0,10], \"k\")#EJE y\n",
    "\n",
    "\n",
    "ax.plot(x, y,\"b\")\n",
    "\n",
    "ax.plot([2,2], [-0.5,1.5],\"r--\")\n",
    "\n",
    "ax.set_xticks([0])\n",
    "ax.set_xticklabels([\"\"])\n",
    "ax.set_yticks([0])\n",
    "ax.set_yticklabels([\"\"])\n",
    "\n",
    "ax.text(2*L , -0.3, r\"$2L$\", color=\"r\", fontsize=15)\n",
    "ax.text(0.1 , h*1.1, r\"$h$\", color=\"r\", fontsize=15)\n",
    "ax.text(-0.2 ,-0.2 , r\"$0$\", fontsize=10)\n",
    "\n",
    "\n",
    "plt.gca().set_ylim([-0.5, 2*h])\n",
    "plt.gca().set_xlim([-0.5,2*L+2])\n",
    "\n",
    "plt.show()"
   ]
  },
  {
   "cell_type": "code",
   "execution_count": 56,
   "metadata": {},
   "outputs": [
    {
     "data": {
      "image/png": "[encoded data removed]",
      "text/plain": [
       "<Figure size 432x288 with 1 Axes>"
      ]
     },
     "metadata": {
      "needs_background": "light"
     },
     "output_type": "display_data"
    }
   ],
   "source": [
    "import numpy as np\n",
    "import matplotlib.pyplot as plt \n",
    "\n",
    "L=3/2\n",
    "h=1\n",
    "\n",
    "x1 = np.linspace(0, 5)\n",
    "x2 = np.linspace(5, 15)\n",
    "x3 = np.linspace(15, 20)\n",
    "\n",
    "y1= 0*x1+h\n",
    "y2= 0*x1\n",
    "y3= 0*x1+h\n",
    "\n",
    "x = np.linspace(0, 2*L+1)\n",
    "y = np.piecewise(x, [   (0<=x) & (x<=1), \n",
    "                        (1<x) & (x<(2*L)), \n",
    "                        (2*L<=x) & (x<=2*L+1) ], \n",
    "\n",
    "                    [   lambda x: h, \n",
    "                        lambda x: 0, \n",
    "                        lambda x: h\n",
    "                    ])\n",
    "\n",
    "'''\n",
    "plt.plot(x1, y1,\"b\")\n",
    "plt.plot(x2, y2,\"b\")\n",
    "plt.plot(x3, y3,\"b\")\n",
    "'''\n",
    "\n",
    "fig, ax = plt.subplots()\n",
    "\n",
    "ax.plot([0,10], [0,0], \"k\")#EJE X\n",
    "ax.plot([0,0], [0,10], \"k\")#EJE y\n",
    "\n",
    "\n",
    "ax.plot(x, y,\"b\")\n",
    "\n",
    "ax.plot([2,2], [-0.5,1.5],\"r--\")\n",
    "\n",
    "ax.set_xticks([0])\n",
    "ax.set_xticklabels([\"\"])\n",
    "ax.set_yticks([0])\n",
    "ax.set_yticklabels([\"\"])\n",
    "\n",
    "ax.text(2*L , -0.3, r\"$2L$\", color=\"r\", fontsize=15)\n",
    "ax.text(0.1 , h*1.1, r\"$h$\", color=\"r\", fontsize=15)\n",
    "ax.text(-0.2 ,-0.2 , r\"$0$\", fontsize=10)\n",
    "\n",
    "\n",
    "plt.gca().set_ylim([-0.5, 2*h])\n",
    "plt.gca().set_xlim([-0.5,2*L+2])\n",
    "\n",
    "plt.show()"
   ]
  },
  {
   "cell_type": "code",
   "execution_count": null,
   "metadata": {},
   "outputs": [],
   "source": []
  }
 ],
 "metadata": {
  "kernelspec": {
   "display_name": "Python 3.9.6 64-bit",
   "language": "python",
   "name": "python3"
  },
  "language_info": {
   "codemirror_mode": {
    "name": "ipython",
    "version": 3
   },
   "file_extension": ".py",
   "mimetype": "text/x-python",
   "name": "python",
   "nbconvert_exporter": "python",
   "pygments_lexer": "ipython3",
   "version": "3.9.6"
  },
  "orig_nbformat": 4,
  "vscode": {
   "interpreter": {
    "hash": "56ff1c1c3135541108fe132e771aa45bbbf614a992258041b003da88d6e3d5e1"
   }
  }
 },
 "nbformat": 4,
 "nbformat_minor": 2
}
